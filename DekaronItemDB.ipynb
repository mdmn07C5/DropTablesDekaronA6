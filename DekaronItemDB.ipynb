{
 "cells": [
  {
   "cell_type": "code",
   "execution_count": 1,
   "id": "d3c4c425-7c91-474e-93d9-dc030dfed3b0",
   "metadata": {},
   "outputs": [],
   "source": [
    "import pandas as pd"
   ]
  },
  {
   "cell_type": "code",
   "execution_count": 2,
   "id": "278168ec-658b-4a6e-8c7d-b130988be6a1",
   "metadata": {},
   "outputs": [],
   "source": [
    "# set up main dataframes\n",
    "itemset_df = pd.read_csv(\"./share/item/itemset.csv\")\n",
    "armor_df = pd.read_csv(\"./share/item/itemarmor.csv\")\n",
    "weapon_df = pd.read_csv(\"./share/item/itemweapon.csv\")\n",
    "monster_df = pd.read_csv(\"./share/monster/monster.csv\")\n",
    "itemetc_df = pd.read_csv(\"./share/item/itemetc.csv\")"
   ]
  },
  {
   "cell_type": "code",
   "execution_count": 3,
   "id": "d1a40852-103b-4db7-9469-c4cd1955d602",
   "metadata": {
    "tags": []
   },
   "outputs": [],
   "source": [
    "# minor clean up / drop useless columns or rename column indexes\n",
    "\n",
    "itemset_df.drop(columns='Name', inplace=True)\n",
    "weapon_df.rename(columns={weapon_df.columns[0] : 'ID'}, inplace=True)\n",
    "armor_df.rename(columns={armor_df.columns[0] : 'ID'}, inplace=True)\n",
    "monster_df.rename(columns={monster_df.columns[0] : 'ID'}, inplace=True)\n",
    "itemetc_df.rename(columns={itemetc_df.columns[0] : 'ID'}, inplace=True)"
   ]
  },
  {
   "cell_type": "code",
   "execution_count": 4,
   "id": "b89fd1dd-eabc-4d38-ad31-0b03bd1d7b20",
   "metadata": {},
   "outputs": [],
   "source": [
    "# column selection \n",
    "armor_filter = ['ID', 'Name', 'DropRate_LowQuality', 'DropRate_NormalQuality', 'DropRate_HighQuality']\n",
    "armor_df_filtered = armor_df[armor_filter]\n",
    "\n",
    "monster_filter = ['ID', 'Name']\n",
    "for i in range(1, 16):\n",
    "    monster_filter.append('ItemSetIndex_'+str(i))\n",
    "    monster_filter.append('ItemSetDropRatio_'+str(i))\n",
    "    "
   ]
  },
  {
   "cell_type": "code",
   "execution_count": 5,
   "id": "0962dff0-4fe6-4a78-a1cc-2946a035fd32",
   "metadata": {},
   "outputs": [],
   "source": [
    "def query_item_id(itemname=''):\n",
    "    item_id = armor_df.loc[armor_df['Name'] == itemname]['ID']\n",
    "    if item_id.empty:\n",
    "        item_id = weapon_df.loc[weapon_df['Name'] == itemname]['ID']\n",
    "    if item_id.empty:\n",
    "        item_id = itemetc_df.loc[itemetc_df['Name'] == itemname]['ID']\n",
    "    return item_id.values\n",
    "\n",
    "def get_set_indexes(items):\n",
    "    set_indexes = []\n",
    "    for i, row in itemset_df.iterrows():\n",
    "       r = row.isin(items)\n",
    "       if any(r):\n",
    "           set_indexes.append(row['Set Index'])\n",
    "    return set_indexes\n",
    "\n",
    "def get_monster_with_itemset(itemset):\n",
    "    monsters = []\n",
    "    for i, row in monster_df.iterrows():\n",
    "        s = r'ItemSetIndex_'\n",
    "        r = row.filter(regex=s).isin(set_indexes)\n",
    "        if any(r):\n",
    "            monsters.append(row['Name'])\n",
    "    return monsters"
   ]
  },
  {
   "cell_type": "code",
   "execution_count": 12,
   "id": "0bf08ea3-62aa-4485-80e3-c313f8b66ec9",
   "metadata": {
    "tags": []
   },
   "outputs": [
    {
     "name": "stdout",
     "output_type": "stream",
     "text": [
      "['Imago', 'Figura', 'Cascade', 'Undin', 'Electron', 'Seo', 'Noes', 'Shurani', 'Lantea']\n"
     ]
    }
   ],
   "source": [
    "weap115 = query_item_id('Javi Java')\n",
    "set_indexes = get_set_indexes(weap115)\n",
    "monsters = get_monster_with_itemset(set_indexes)\n",
    "print(monsters)"
   ]
  },
  {
   "cell_type": "code",
   "execution_count": 13,
   "id": "923c9caf-c534-4da1-ae11-c4867cc65d71",
   "metadata": {
    "tags": []
   },
   "outputs": [
    {
     "name": "stdout",
     "output_type": "stream",
     "text": [
      "['Seetooth Axeman', 'Seetooth Hunter', 'Seetooth Berserker', 'Illipia']\n"
     ]
    }
   ],
   "source": [
    "armor110 = query_item_id('Impulse Helmet')\n",
    "set_indexes = get_set_indexes(armor110)\n",
    "monsters = get_monster_with_itemset(set_indexes)\n",
    "print(monsters)"
   ]
  },
  {
   "cell_type": "code",
   "execution_count": 14,
   "id": "6aab7f55-1e22-4df1-bd30-4b1a34301471",
   "metadata": {},
   "outputs": [
    {
     "name": "stdout",
     "output_type": "stream",
     "text": [
      "['Seetooth Hunter', 'Seetooth Barbarian', 'Seetooth Berserker', 'Illipia']\n"
     ]
    }
   ],
   "source": [
    "armor110 = query_item_id('Impulse Armor')\n",
    "set_indexes = get_set_indexes(armor110)\n",
    "monsters = get_monster_with_itemset(set_indexes)\n",
    "print(monsters)"
   ]
  },
  {
   "cell_type": "code",
   "execution_count": 21,
   "id": "571e00e7-6cee-44a0-b6bc-19f0808b4661",
   "metadata": {
    "tags": []
   },
   "outputs": [
    {
     "name": "stdout",
     "output_type": "stream",
     "text": [
      "       ID    Name  Rank  Type  Code  Attribute  Description  Quality  \\\n",
      "459  6311  Medial     0     1     0          3          256       34   \n",
      "502  6339  Medial     0     1     0          3          256       34   \n",
      "517  6354  Medial     0     1     0          3          256       34   \n",
      "532  6369  Medial     0     1     0          3          256       34   \n",
      "547  6384  Medial     0     1     0          3          256       34   \n",
      "562  6399  Medial     0     1     0          3          256       34   \n",
      "577  6414  Medial     0     1     0          3          256       34   \n",
      "592  6429  Medial     0     1     0          3          256       34   \n",
      "607  6444  Medial     0     1     0          3          256       34   \n",
      "622  6459  Medial     0     1     0          3          256       34   \n",
      "\n",
      "                                         Job  Appraisal  ...  \\\n",
      "459  1111-1111-1111-1111-1111-1111-1111-1111       1500  ...   \n",
      "502  1111-1111-1111-1111-1111-1111-1111-1111       1500  ...   \n",
      "517  1111-1111-1111-1111-1111-1111-1111-1111       1500  ...   \n",
      "532  1111-1111-1111-1111-1111-1111-1111-1111       1500  ...   \n",
      "547  1111-1111-1111-1111-1111-1111-1111-1111       1500  ...   \n",
      "562  1111-1111-1111-1111-1111-1111-1111-1111       1500  ...   \n",
      "577  1111-1111-1111-1111-1111-1111-1111-1111       1500  ...   \n",
      "592  1111-1111-1111-1111-1111-1111-1111-1111       1500  ...   \n",
      "607  1111-1111-1111-1111-1111-1111-1111-1111       1500  ...   \n",
      "622  1111-1111-1111-1111-1111-1111-1111-1111       1500  ...   \n",
      "\n",
      "     Level 0 Dex Request  Level 0 Spr Request  Level 0 Appraisal Addition  \\\n",
      "459                    0                    0                           0   \n",
      "502                    0                    0                           0   \n",
      "517                    0                    0                           0   \n",
      "532                    0                    0                           0   \n",
      "547                    0                    0                           0   \n",
      "562                    0                    0                           0   \n",
      "577                    0                    0                           0   \n",
      "592                    0                    0                           0   \n",
      "607                    0                    0                           0   \n",
      "622                    0                    0                           0   \n",
      "\n",
      "     BeforeLevelIndex  NextLevelIndex  Period  IsLimit  PeriodBreak  Belong  \\\n",
      "459                 0               0       0        0            1       0   \n",
      "502                 0               0       0        0            1       0   \n",
      "517                 0               0       0        0            1       0   \n",
      "532                 0               0       0        0            1       0   \n",
      "547                 0               0       0        0            1       0   \n",
      "562                 0               0       0        0            1       0   \n",
      "577                 0               0       0        0            1       0   \n",
      "592                 0               0       0        0            1       0   \n",
      "607                 0               0       0        0            1       0   \n",
      "622                 0               0       0        0            1       0   \n",
      "\n",
      "     NextShape  \n",
      "459          0  \n",
      "502          0  \n",
      "517          0  \n",
      "532          0  \n",
      "547          0  \n",
      "562          0  \n",
      "577          0  \n",
      "592          0  \n",
      "607          0  \n",
      "622          0  \n",
      "\n",
      "[10 rows x 81 columns]\n"
     ]
    }
   ],
   "source": [
    "# print(medials[['39475.57708','Option Value 1', 'Option Index 2', 'Option Value 2', 'Option Index 3',\n",
    "#        'Option Value 3', 'Option Index 4', 'Option Value 4', 'Option Index 5',\n",
    "#        'Option Value 5', 'Option Index 6', 'Option Value 6', 'MinOption1',\n",
    "#        'MaxOption1', 'MinOption2', 'MaxOption2', 'MinOption3', 'MaxOption3']])\n",
    "medials = query_item_id('Medial')\n",
    "medial_stats = itemetc_df[itemetc_df['ID'].isin(medials)]\n",
    "print(medial_stats)"
   ]
  },
  {
   "cell_type": "code",
   "execution_count": 68,
   "id": "34d704df-4f4d-4470-be73-2bf7acbed60a",
   "metadata": {
    "tags": []
   },
   "outputs": [
    {
     "name": "stdout",
     "output_type": "stream",
     "text": [
      "6312\n"
     ]
    }
   ],
   "source": [
    "medial25_id = medials[medials['Option Value 1']==25]['39475.57708'].iloc[0]\n",
    "medial29_id = medials[medials['Option Value 1']==29]['39475.57708'].iloc[0]\n",
    "medial33_id = medials[medials['Option Value 1']==33]['39475.57708'].iloc[0]\n",
    "# medialMAX_id = medials[medials['Name']=='Max Medial']['39475.57708'].iloc[0]\n",
    "print(medialMAX_id)"
   ]
  },
  {
   "cell_type": "code",
   "execution_count": 69,
   "id": "a2a2e9ce-837d-4713-bdef-1419600b14bb",
   "metadata": {},
   "outputs": [
    {
     "name": "stdout",
     "output_type": "stream",
     "text": [
      "[458, 471, 725, 1034]\n"
     ]
    }
   ],
   "source": [
    "set_indexes = []\n",
    "for i, row in itemset_df.iterrows():\n",
    "   r = row.isin([medial33_id])\n",
    "   if any(r):\n",
    "       set_indexes.append(row['Set Index'])\n",
    "print(set_indexes)"
   ]
  },
  {
   "cell_type": "code",
   "execution_count": 70,
   "id": "d6b91720-175e-4b56-ac8f-d6aaa3e6bd44",
   "metadata": {},
   "outputs": [
    {
     "name": "stdout",
     "output_type": "stream",
     "text": [
      "['Gev', 'Ekatl', \"Gabian D'Qurion\", 'Gabian Fret', 'Incarnation of Helion', 'Qilue Rhianna', 'Yoshima Diameki', 'Drakorich', 'Aquira Warlord', 'Aquira Khan', 'Spirit of Ancient Knight', 'Spirit of Ancient Knight', 'Spirit of Ancient Hunter', 'Spirit of Ancient Magician', 'Spirit of Ancient Magician', 'Spirit of Ancient Summoner', 'Spirit of Ancient Segnale', 'Core of Sun', 'Ancient Relics', 'Ancient Relics', 'Ancient Relics', 'Ancient Relics', 'Ancient Relics', 'Ancient Relics', 'Ancient Relics', 'Ancient Relics', 'Ancient Relics', 'Ancient Relics', 'Ancient Relics', 'Cherubim', 'Ephri', 'Damnos']\n"
     ]
    }
   ],
   "source": [
    "monsters = []\n",
    "for i, row in monster_df.iterrows():\n",
    "    s = r'ItemSetIndex_'\n",
    "    r = row.filter(regex=s).isin(set_indexes)\n",
    "    if any(r):\n",
    "        monsters.append(row['Name'])\n",
    "print(monsters)"
   ]
  },
  {
   "cell_type": "code",
   "execution_count": 204,
   "id": "dd45bd34-5130-4466-8274-062ae2d0af60",
   "metadata": {},
   "outputs": [],
   "source": [
    "mob_info_gielogun_lord = monster_df_filtered.loc[monster_df_filtered['Name'] == 'Gielogun Lord']"
   ]
  },
  {
   "cell_type": "code",
   "execution_count": 205,
   "id": "de5d8177-3cff-44d9-862d-e836a5ee7a3a",
   "metadata": {},
   "outputs": [
    {
     "name": "stdout",
     "output_type": "stream",
     "text": [
      "     Monster_ID           Name  ItemSetIndex_1  ItemSetDropRatio_1  \\\n",
      "139        2055  Gielogun Lord            4088                 200   \n",
      "\n",
      "     ItemSetIndex_2  ItemSetDropRatio_2  ItemSetIndex_3  ItemSetDropRatio_3  \\\n",
      "139             460                  10              38                 231   \n",
      "\n",
      "     ItemSetIndex_4  ItemSetDropRatio_4  ...  ItemSetIndex_11  \\\n",
      "139              39                 231  ...              507   \n",
      "\n",
      "     ItemSetDropRatio_11  ItemSetIndex_12  ItemSetDropRatio_12  \\\n",
      "139                   10              407                   40   \n",
      "\n",
      "     ItemSetIndex_13  ItemSetDropRatio_13  ItemSetIndex_14  \\\n",
      "139                0                    0              462   \n",
      "\n",
      "     ItemSetDropRatio_14  ItemSetIndex_15  ItemSetDropRatio_15  \n",
      "139                   70              312                    4  \n",
      "\n",
      "[1 rows x 32 columns]\n"
     ]
    }
   ],
   "source": [
    "print(mob_info_gielogun_lord)"
   ]
  },
  {
   "cell_type": "code",
   "execution_count": 243,
   "id": "c4182c7f-5223-4fa0-9c7f-00ca53341885",
   "metadata": {},
   "outputs": [
    {
     "name": "stdout",
     "output_type": "stream",
     "text": [
      "[817600, 4600, 8778, 9009, 7680, 4640, 23370, 23575, 19665, 11845, 5070, 16280, 0, 32340]\n"
     ]
    }
   ],
   "source": [
    "l = mob_info_gielogun_lord.values[0][2:-1]\n",
    "k = [l[i]*l[i+1] for i in range(0, len(l)-1, 2)]\n",
    "print(k)\n",
    "# print(armor_df_filtered.loc[armor_df_filtered['Armor_ID'] > 460])"
   ]
  },
  {
   "cell_type": "code",
   "execution_count": null,
   "id": "a2c56b08-76b0-422c-8117-fb9618a907f1",
   "metadata": {},
   "outputs": [],
   "source": []
  }
 ],
 "metadata": {
  "kernelspec": {
   "display_name": "Python 3",
   "language": "python",
   "name": "python3"
  },
  "language_info": {
   "codemirror_mode": {
    "name": "ipython",
    "version": 3
   },
   "file_extension": ".py",
   "mimetype": "text/x-python",
   "name": "python",
   "nbconvert_exporter": "python",
   "pygments_lexer": "ipython3",
   "version": "3.9.0"
  }
 },
 "nbformat": 4,
 "nbformat_minor": 5
}
